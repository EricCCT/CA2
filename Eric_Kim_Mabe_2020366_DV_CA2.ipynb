{
 "cells": [
  {
   "cell_type": "markdown",
   "id": "980677ff",
   "metadata": {},
   "source": [
    "# CCT College Dublin\n",
    "\n",
    "## Assessment Cover Page\n",
    "\n",
    "To be provided separately as a word doc for students to include with every submission\n",
    "\n",
    "Module Title: Artificial Intelligence \n",
    "\n",
    "Assessment Title: AI_Lv8_CA2_v8 \n",
    "\n",
    "Lecturer Name:  David McQuaid\n",
    "\n",
    "Student Full Name: Eric Kim Mabe\n",
    "\n",
    "Student Number: 2020366\n",
    "\n",
    "Assessment Due Date: \n",
    "\n",
    "Date of Submission: 19/11/2023\n",
    "\n",
    "## Declaration \n",
    "\n",
    "By submitting this assessment, I confirm that I have read the CCT policy on Academic Misconduct and understand the implications of submitting work that is not my own or does not appropriately reference material taken from a third party or other source. I declare it to be my own work and that all material from third parties has been appropriately referenced. I further confirm that this work has not previously been submitted for assessment by myself or someone else in CCT College Dublin or any other higher education institution.\n"
   ]
  },
  {
   "cell_type": "markdown",
   "id": "26718eb6",
   "metadata": {},
   "source": [
    "#### Exploring Pathfinding Algorithms: A Comparative Analysis of Dijkstra's Algorithm and A* Search\n"
   ]
  },
  {
   "cell_type": "markdown",
   "id": "60013540",
   "metadata": {},
   "source": [
    "Introduction\n",
    "\n",
    "Pathfinding algorithms are used in various fields to optimize routes, minimize costs, and determine efficient paths in different scenarios. Two popular algorithms for solving pathfinding problems are Dijkstra’s Algorithm and A* Search. This essay aims to compare these algorithms, highlighting their characteristics, applications, and specific processes for finding the shortest path. Understanding these algorithms and their practical applications is crucial for improving problem-solving skills in real-world scenarios."
   ]
  },
  {
   "cell_type": "markdown",
   "id": "72965520",
   "metadata": {},
   "source": [
    "#### Differences between a graph and a tree"
   ]
  },
  {
   "cell_type": "markdown",
   "id": "47a87927",
   "metadata": {},
   "source": [
    "Graphs and trees are two types of structures used in computer science. A graph can contain cycles, which means it can have closed loops, allowing for multiple paths between nodes. In contrast, trees are acyclic, meaning they do not have cycles or loops. Trees have a hierarchical structure with a single root node and branches that lead to child nodes. On the other hand, a graph can have multiple root nodes and nodes with multiple parents.\n",
    "\n",
    "In terms of connections, any two nodes in a graph can be connected to each other, with no restrictions on how nodes are linked. In a tree, each node (except the root) has a single parent, and the connections flow from parent to child.\n",
    "\n",
    "With regard to paths, a graph allows for multiple paths between nodes, accommodating alternative routes and loops. In a tree, there is always a unique path between any two nodes, leading from the root to the destination.\n",
    "\n",
    "Graphs are used to model relationships and connections in diverse real-world scenarios, such as transportation networks and social networks, where multiple routes and cycles are common. Trees, on the other hand, are commonly used in hierarchical structures like file systems and organizational charts 1.\n",
    "\n",
    "Difference between graph and tree (2023) GeeksforGeeks. Available at: \n",
    "https://www.geeksforgeeks.org/difference-between-graph-and-tree/ (Accessed: 03 November 2023). \n",
    "\n",
    "Sari, W. by: S. (2021) Tree vs graph data structure, Baeldung on Computer Science. Available at: https://www.baeldung.com/cs/tree-vs-graph-data-structure (Accessed: 03 November 2023). "
   ]
  },
  {
   "cell_type": "markdown",
   "id": "aea06c62",
   "metadata": {},
   "source": [
    "#### How the graph is an abstraction of the problem"
   ]
  },
  {
   "cell_type": "code",
   "execution_count": null,
   "id": "5b43f616",
   "metadata": {},
   "outputs": [],
   "source": []
  },
  {
   "cell_type": "markdown",
   "id": "21e8d010",
   "metadata": {},
   "source": [
    "Characterize the problem by formulating it as a graph, utilizing a dictionary structure where nodes serve as keys, and their associated neighbors, along with their respective edge weights, are encapsulated within sub-dictionaries."
   ]
  },
  {
   "cell_type": "code",
   "execution_count": 1,
   "id": "f77efa1a",
   "metadata": {},
   "outputs": [],
   "source": [
    "graph = {\n",
    "    'A': {'B': 1, 'C': 5, 'H': 2},\n",
    "    'B': {'A': 1, 'C': 2, 'D': 4},\n",
    "    'C': {'A': 5, 'B': 2, 'G': 1},\n",
    "    'D': {'B': 4, 'E': 4, 'F': 7, 'L': 7},\n",
    "    'E': {'B': 4, 'F': 3, 'W': 6},\n",
    "    'F': {'D': 7, 'E': 3, 'G': 2},\n",
    "    'G': {'C': 1, 'F': 2, 'L': 3},\n",
    "    'H': {'A': 2, 'J': 9, 'K': 5},\n",
    "    'J': {'H': 9, 'K': 3, 'N': 6},\n",
    "    'K': {'H': 5, 'J': 3, 'L': 5},\n",
    "    'L': {'D': 7, 'G': 3, 'K': 5, 'M': 4, 'N': 3, 'V': 10, 'W': 8},\n",
    "    'M': {'L': 4, 'P': 2, 'Q': 10},\n",
    "    'N': {'J': 6, 'K': 5, 'L': 3, 'P': 4, 'S': 7},\n",
    "    'P': {'M': 2, 'N': 4, 'R': 5},\n",
    "    'Q': {'M': 10, 'S': 8, 'W': 4},\n",
    "    'R': {'P': 5, 'S': 4, 'T': 3},\n",
    "    'S': {'N': 7, 'P': 4, 'Q': 8, 'R': 4, 'T': 4, 'U' : 2, 'V': 6},\n",
    "    'T': {'R': 3, 'S': 4, 'U': 1},\n",
    "    'U': {'S': 2, 'T': 1, 'V': 3},\n",
    "    'V': {'L': 10, 'S': 6, 'U': 3, 'W': 5},\n",
    "    'W': {'E': 6, 'L': 8, 'Q': 4, 'V': 5}\n",
    "}"
   ]
  },
  {
   "cell_type": "markdown",
   "id": "bfade4ba",
   "metadata": {},
   "source": [
    "We’re using Dijkstra’s Algorithm to find the shortest path between nodes in a graph. This algorithm calculates the shortest distance from the starting node to all other nodes in the graph."
   ]
  },
  {
   "cell_type": "code",
   "execution_count": 1,
   "id": "c3c05ede",
   "metadata": {},
   "outputs": [],
   "source": [
    "# Dijkstra's algorithm for finding the shortest path in a weighted graph\n",
    "def dijkstra(graph, start, end):\n",
    "    shortest_distance = {}  # Dictionary to store the shortest distance from the start node to each node\n",
    "    predecessor = {}        # Dictionary to store the predecessor node for each node in the shortest path\n",
    "    unseen_nodes = list(graph)  # List of all nodes in the graph that have not been processed yet\n",
    "    infinity = float('inf')    # Represents infinity as a placeholder for initially unknown distances\n",
    "    path = []  # List to store the nodes in the shortest path from start to end\n",
    "\n",
    "    # Initialize shortest_distance with infinity for all nodes except the start node\n",
    "    for node in unseen_nodes:\n",
    "        shortest_distance[node] = infinity\n",
    "    shortest_distance[start] = 0\n",
    "\n",
    "    # Main loop to find the shortest path\n",
    "    while unseen_nodes:\n",
    "        min_node = None\n",
    "        # Find the node with the smallest distance among the unseen nodes\n",
    "        for node in unseen_nodes:\n",
    "            if min_node is None:\n",
    "                min_node = node\n",
    "            elif shortest_distance[node] < shortest_distance[min_node]:\n",
    "                min_node = node\n",
    "\n",
    "        # Update distances for neighboring nodes through the current minimum node\n",
    "        for child, weight in graph[min_node].items():\n",
    "            if weight + shortest_distance[min_node] < shortest_distance[child]:\n",
    "                shortest_distance[child] = weight + shortest_distance[min_node]\n",
    "                predecessor[child] = min_node\n",
    "\n",
    "        # Remove the processed node from the unseen_nodes list\n",
    "        unseen_nodes.remove(min_node)\n",
    "\n",
    "    current_node = end\n",
    "    # Reconstruct the shortest path from end to start\n",
    "    while current_node != start:\n",
    "        try:\n",
    "            path.insert(0, current_node)\n",
    "            current_node = predecessor[current_node]\n",
    "        except KeyError:\n",
    "            print(\"Path not reachable\")\n",
    "            break\n",
    "    path.insert(0, start)\n",
    "    \n",
    "    # Print the results if a path from start to end exists\n",
    "    if shortest_distance[end] != infinity:\n",
    "        print(\"Dijkstra's Algorithm\")\n",
    "        print(\"Shortest path:\", ' -> '.join(path))\n",
    "        print(\"Shortest distance:\", shortest_distance[end])\n"
   ]
  },
  {
   "cell_type": "markdown",
   "id": "d4a49784",
   "metadata": {},
   "source": [
    "We are going to use the A* Search Algorithm to find the shortest path in a graph. This algorithm is like a map that helps us find the best way to get from one place to another. It’s really smart and can help us find the best path quickly."
   ]
  },
  {
   "cell_type": "code",
   "execution_count": 2,
   "id": "3d9718d0",
   "metadata": {},
   "outputs": [],
   "source": [
    "# A* algorithm for finding the shortest path in a weighted graph\n",
    "def astar(graph, start, end):\n",
    "    open_list = [(0, start)]  # List to store open nodes with their f-scores\n",
    "    came_from = {}  # Dictionary to store the parent node for each node in the path\n",
    "    g_score = {node: float('inf') for node in graph}  # Dictionary to store the current cost from start to each node\n",
    "    g_score[start] = 0\n",
    "    f_score = {node: float('inf') for node in graph}  # Dictionary to store the estimated total cost from start to each node\n",
    "    f_score[start] = heuristic(start, end)  # Set the estimated cost for the start node\n",
    "\n",
    "    while open_list:\n",
    "        # Find the node in open_list with the lowest f-score\n",
    "        current = min(open_list, key=lambda x: f_score[x[1]])\n",
    "\n",
    "        if current[1] == end:\n",
    "            return reconstruct_path(came_from, end)  # If the current node is the end node, reconstruct and return the path\n",
    "\n",
    "        open_list.remove(current)  # Remove the current node from the open list\n",
    "        for neighbor, cost in graph[current[1]].items():\n",
    "            # Calculate the tentative g-score for the neighbor node\n",
    "            tentative_g_score = g_score[current[1] + cost]\n",
    "\n",
    "            # Update information for the neighbor node if it results in a better path\n",
    "            if tentative_g_score < g_score[neighbor]:\n",
    "                came_from[neighbor] = current[1]\n",
    "                g_score[neighbor] = tentative_g_score\n",
    "                f_score[neighbor] = g_score[neighbor] + heuristic(neighbor, end)\n",
    "\n",
    "                if neighbor not in [x[1] for x in open_list]:\n",
    "                    open_list.append((f_score[neighbor], neighbor))  # Add the neighbor to the open list if not already there\n",
    "\n",
    "    return None  # Return None if no path from start to end is found\n"
   ]
  },
  {
   "cell_type": "markdown",
   "id": "16b9a68e",
   "metadata": {},
   "source": [
    "In the A* Search algorithm, a heuristic function is used to estimate the cost of the cheapest path from the current node to the goal. This function is essential to the algorithm because it allows it to prioritize paths that are more likely to lead to a solution."
   ]
  },
  {
   "cell_type": "code",
   "execution_count": 3,
   "id": "199ff4db",
   "metadata": {},
   "outputs": [],
   "source": [
    "# Calculate the heuristic (estimated cost) from a node to a goal node\n",
    "def heuristic(node, goal):\n",
    "    # Retrieve the coordinates of the current node and the goal node from a predefined data structure (node_coords)\n",
    "    node_x, node_y = node_coords[node]\n",
    "    goal_x, goal_y = node_coords[goal]\n",
    "\n",
    "    # Calculate the Euclidean distance as the heuristic value, which is the square root of the sum of squared differences\n",
    "    heuristic_value = ((node_x - goal_x) ** 2 + (node_y - goal_y) ** 2) ** 0.5\n",
    "\n",
    "    return heuristic_value"
   ]
  },
  {
   "cell_type": "markdown",
   "id": "66ed4961",
   "metadata": {},
   "source": [
    "The reconstruct_path function is used in the A* Search Algorithm to trace back from the goal node to the start node and find the shortest path. It is an essential part of the algorithm."
   ]
  },
  {
   "cell_type": "code",
   "execution_count": 6,
   "id": "3ff84edf",
   "metadata": {},
   "outputs": [],
   "source": [
    "# Reconstruct the path from the 'came_from' dictionary for a given 'current_node'\n",
    "def reconstruct_path(came_from, current_node):\n",
    "    path = [current_node]  # Initialize a list to store the reconstructed path, starting with the current node\n",
    "\n",
    "    # Follow the 'came_from' dictionary to backtrack and build the path\n",
    "    while current_node in came_from:\n",
    "        current_node = came_from[current_node]  # Move to the parent node of the current node\n",
    "        path.insert(0, current_node)  # Insert the parent node at the beginning of the path list\n",
    "\n",
    "    return path  # Return the reconstructed path from the start node to the end node\n"
   ]
  },
  {
   "cell_type": "markdown",
   "id": "85a051b9",
   "metadata": {},
   "source": [
    "In the code snippet provided, we specify the positions of the nodes on the graph. These positions are then utilized in the heuristic function to estimate the Euclidean distance."
   ]
  },
  {
   "cell_type": "code",
   "execution_count": 7,
   "id": "19c3cc09",
   "metadata": {},
   "outputs": [],
   "source": [
    "# Dictionary that stores coordinates for various nodes in a graph\n",
    "node_coords = {\n",
    "    'A': (0, 0),\n",
    "    'B': (1, 1),\n",
    "    'C': (1, 0),\n",
    "    'D': (2, 1),\n",
    "    'E': (3, 0),\n",
    "    'F': (3, 1),\n",
    "    'G': (2, 0),\n",
    "    'H': (0, 2),\n",
    "    'J': (1, 3),\n",
    "    'K': (2, 3),\n",
    "    'L': (2, 2),\n",
    "    'M': (3, 2),\n",
    "    'N': (3, 3),\n",
    "    'P': (4, 2),\n",
    "    'Q': (4, 3),\n",
    "    'R': (4, 4),\n",
    "    'S': (5, 3),\n",
    "    'T': (5, 4),\n",
    "    'U': (6, 3),\n",
    "    'V': (6, 2),\n",
    "    'W': (4, 0),\n",
    "}"
   ]
  },
  {
   "cell_type": "code",
   "execution_count": null,
   "id": "cc4c88a1",
   "metadata": {},
   "outputs": [],
   "source": []
  }
 ],
 "metadata": {
  "kernelspec": {
   "display_name": "Python 3 (ipykernel)",
   "language": "python",
   "name": "python3"
  },
  "language_info": {
   "codemirror_mode": {
    "name": "ipython",
    "version": 3
   },
   "file_extension": ".py",
   "mimetype": "text/x-python",
   "name": "python",
   "nbconvert_exporter": "python",
   "pygments_lexer": "ipython3",
   "version": "3.9.12"
  }
 },
 "nbformat": 4,
 "nbformat_minor": 5
}
