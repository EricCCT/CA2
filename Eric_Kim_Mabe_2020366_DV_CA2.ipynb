{
 "cells": [
  {
   "cell_type": "markdown",
   "id": "980677ff",
   "metadata": {},
   "source": [
    "## CA2 DV \n",
    "Student name: Eric Kim Mabe\n",
    "\n",
    "Student ID: 2020366\n"
   ]
  },
  {
   "cell_type": "markdown",
   "id": "21e8d010",
   "metadata": {},
   "source": [
    "Characterize the problem by formulating it as a graph, utilizing a dictionary structure where nodes serve as keys, and their associated neighbors, along with their respective edge weights, are encapsulated within sub-dictionaries."
   ]
  },
  {
   "cell_type": "code",
   "execution_count": 1,
   "id": "f77efa1a",
   "metadata": {},
   "outputs": [],
   "source": [
    "graph = {\n",
    "    'A': {'B': 1, 'C': 5, 'H': 2},\n",
    "    'B': {'A': 1, 'C': 2, 'D': 4},\n",
    "    'C': {'A': 5, 'B': 2, 'G': 1},\n",
    "    'D': {'B': 4, 'E': 4, 'F': 7, 'L': 7},\n",
    "    'E': {'B': 4, 'F': 3, 'W': 6},\n",
    "    'F': {'D': 7, 'E': 3, 'G': 2},\n",
    "    'G': {'C': 1, 'F': 2, 'L': 3},\n",
    "    'H': {'A': 2, 'J': 9, 'K': 5},\n",
    "    'J': {'H': 9, 'K': 3, 'N': 6},\n",
    "    'K': {'H': 5, 'J': 3, 'L': 5},\n",
    "    'L': {'D': 7, 'G': 3, 'K': 5, 'M': 4, 'N': 3, 'V': 10, 'W': 8},\n",
    "    'M': {'L': 4, 'P': 2, 'Q': 10},\n",
    "    'N': {'J': 6, 'K': 5, 'L': 3, 'P': 4, 'S': 7},\n",
    "    'P': {'M': 2, 'N': 4, 'R': 5},\n",
    "    'Q': {'M': 10, 'S': 8, 'W': 4},\n",
    "    'R': {'P': 5, 'S': 4, 'T': 3},\n",
    "    'S': {'N': 7, 'P': 4, 'Q': 8, 'R': 4, 'T': 4, 'U' : 2, 'V': 6},\n",
    "    'T': {'R': 3, 'S': 4, 'U': 1},\n",
    "    'U': {'S': 2, 'T': 1, 'V': 3},\n",
    "    'V': {'L': 10, 'S': 6, 'U': 3, 'W': 5},\n",
    "    'W': {'E': 6, 'L': 8, 'Q': 4, 'V': 5}\n",
    "}"
   ]
  },
  {
   "cell_type": "markdown",
   "id": "bfade4ba",
   "metadata": {},
   "source": [
    "We’re using Dijkstra’s Algorithm to find the shortest path between nodes in a graph. This algorithm calculates the shortest distance from the starting node to all other nodes in the graph"
   ]
  },
  {
   "cell_type": "code",
   "execution_count": 2,
   "id": "c3c05ede",
   "metadata": {},
   "outputs": [],
   "source": [
    "def dijkstra(graph, start, end):\n",
    "    shortest_distance = {}\n",
    "    predecessor = {}\n",
    "    unseen_nodes = list(graph)\n",
    "    infinity = float('inf')\n",
    "    path = []\n",
    "\n",
    "    for node in unseen_nodes:\n",
    "        shortest_distance[node] = infinity\n",
    "    shortest_distance[start] = 0\n",
    "\n",
    "    while unseen_nodes:\n",
    "        min_node = None\n",
    "        for node in unseen_nodes:\n",
    "            if min_node is None:\n",
    "                min_node = node\n",
    "            elif shortest_distance[node] < shortest_distance[min_node]:\n",
    "                min_node = node\n",
    "\n",
    "        for child, weight in graph[min_node].items():\n",
    "            if weight + shortest_distance[min_node] < shortest_distance[child]:\n",
    "                shortest_distance[child] = weight + shortest_distance[min_node]\n",
    "                predecessor[child] = min_node\n",
    "\n",
    "        unseen_nodes.remove(min_node)\n",
    "\n",
    "    current_node = end\n",
    "    while current_node != start:\n",
    "        try:\n",
    "            path.insert(0, current_node)\n",
    "            current_node = predecessor[current_node]\n",
    "        except KeyError:\n",
    "            print(\"Path not reachable\")\n",
    "            break\n",
    "    path.insert(0, start)\n",
    "    \n",
    "    if shortest_distance[end] != infinity:\n",
    "        print(\"Dijkstra's Algorithm\")\n",
    "        print(\"Shortest path:\", ' -> '.join(path))\n",
    "        print(\"Shortest distance:\", shortest_distance[end])"
   ]
  },
  {
   "cell_type": "markdown",
   "id": "d4a49784",
   "metadata": {},
   "source": [
    "We are going to use the A* Search Algorithm to find the shortest path in a graph. This algorithm is like a map that helps us find the best way to get from one place to another. It’s really smart and can help us find the best path quickly."
   ]
  },
  {
   "cell_type": "code",
   "execution_count": 3,
   "id": "3d9718d0",
   "metadata": {},
   "outputs": [],
   "source": [
    "def astar(graph, start, end):\n",
    "    open_list = [(0, start)]\n",
    "    came_from = {}\n",
    "    g_score = {node: float('inf') for node in graph}\n",
    "    g_score[start] = 0\n",
    "    f_score = {node: float('inf') for node in graph}\n",
    "    f_score[start] = heuristic(start, end)\n",
    "\n",
    "    while open_list:\n",
    "        current = min(open_list, key=lambda x: f_score[x[1]])\n",
    "\n",
    "        if current[1] == end:\n",
    "            return reconstruct_path(came_from, end)\n",
    "\n",
    "        open_list.remove(current)\n",
    "        for neighbor, cost in graph[current[1]].items():\n",
    "            tentative_g_score = g_score[current[1]] + cost\n",
    "            if tentative_g_score < g_score[neighbor]:\n",
    "                came_from[neighbor] = current[1]\n",
    "                g_score[neighbor] = tentative_g_score\n",
    "                f_score[neighbor] = g_score[neighbor] + heuristic(neighbor, end)\n",
    "                if neighbor not in [x[1] for x in open_list]:\n",
    "                    open_list.append((f_score[neighbor], neighbor))\n",
    "\n",
    "    return None"
   ]
  },
  {
   "cell_type": "markdown",
   "id": "5606be53",
   "metadata": {},
   "source": [
    "In the A* Search algorithm, a heuristic function is used to estimate the cost of the cheapest path from the current node to the goal. This function is essential to the algorithm because it allows it to prioritize paths that are more likely to lead to a solution"
   ]
  },
  {
   "cell_type": "code",
   "execution_count": 1,
   "id": "a4a28ba6",
   "metadata": {},
   "outputs": [],
   "source": [
    "def heuristic(node, goal):\n",
    "    node_x, node_y = node_coords[node]\n",
    "    goal_x, goal_y = node_coords[goal]\n",
    "    return ((node_x - goal_x) ** 2 + (node_y - goal_y) ** 2) ** 0.5"
   ]
  },
  {
   "cell_type": "markdown",
   "id": "5849a2e6",
   "metadata": {},
   "source": [
    "The reconstruct_path function is used in the A* Search Algorithm to trace back from the goal node to the start node and find the shortest path. It is an essential part of the algorithm"
   ]
  }
 ],
 "metadata": {
  "kernelspec": {
   "display_name": "Python 3 (ipykernel)",
   "language": "python",
   "name": "python3"
  },
  "language_info": {
   "codemirror_mode": {
    "name": "ipython",
    "version": 3
   },
   "file_extension": ".py",
   "mimetype": "text/x-python",
   "name": "python",
   "nbconvert_exporter": "python",
   "pygments_lexer": "ipython3",
   "version": "3.9.12"
  }
 },
 "nbformat": 4,
 "nbformat_minor": 5
}
