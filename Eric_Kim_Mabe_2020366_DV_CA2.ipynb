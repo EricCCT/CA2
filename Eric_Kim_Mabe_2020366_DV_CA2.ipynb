{
 "cells": [
  {
   "cell_type": "markdown",
   "id": "980677ff",
   "metadata": {},
   "source": [
    "## CA2 \n",
    "Student name: Eric Kim Mabe\n",
    "\n",
    "Student ID: 2020366\n"
   ]
  },
  {
   "cell_type": "markdown",
   "id": "21e8d010",
   "metadata": {},
   "source": [
    "Characterize the problem by formulating it as a graph, utilizing a dictionary structure where nodes serve as keys, and their associated neighbors, along with their respective edge weights, are encapsulated within sub-dictionaries."
   ]
  },
  {
   "cell_type": "code",
   "execution_count": 1,
   "id": "f77efa1a",
   "metadata": {},
   "outputs": [],
   "source": [
    "graph = {\n",
    "    'A': {'B': 1, 'C': 5, 'H': 2},\n",
    "    'B': {'A': 1, 'C': 2, 'D': 4},\n",
    "    'C': {'A': 5, 'B': 2, 'G': 1},\n",
    "    'D': {'B': 4, 'E': 4, 'F': 7, 'L': 7},\n",
    "    'E': {'B': 4, 'F': 3, 'W': 6},\n",
    "    'F': {'D': 7, 'E': 3, 'G': 2},\n",
    "    'G': {'C': 1, 'F': 2, 'L': 3},\n",
    "    'H': {'A': 2, 'J': 9, 'K': 5},\n",
    "    'J': {'H': 9, 'K': 3, 'N': 6},\n",
    "    'K': {'H': 5, 'J': 3, 'L': 5},\n",
    "    'L': {'D': 7, 'G': 3, 'K': 5, 'M': 4, 'N': 3, 'V': 10, 'W': 8},\n",
    "    'M': {'L': 4, 'P': 2, 'Q': 10},\n",
    "    'N': {'J': 6, 'K': 5, 'L': 3, 'P': 4, 'S': 7},\n",
    "    'P': {'M': 2, 'N': 4, 'R': 5},\n",
    "    'Q': {'M': 10, 'S': 8, 'W': 4},\n",
    "    'R': {'P': 5, 'S': 4, 'T': 3},\n",
    "    'S': {'N': 7, 'P': 4, 'Q': 8, 'R': 4, 'T': 4, 'U' : 2, 'V': 6},\n",
    "    'T': {'R': 3, 'S': 4, 'U': 1},\n",
    "    'U': {'S': 2, 'T': 1, 'V': 3},\n",
    "    'V': {'L': 10, 'S': 6, 'U': 3, 'W': 5},\n",
    "    'W': {'E': 6, 'L': 8, 'Q': 4, 'V': 5}\n",
    "}"
   ]
  },
  {
   "cell_type": "markdown",
   "id": "bfade4ba",
   "metadata": {},
   "source": [
    "We are applying Dijkstra's Algorithm to determine the shortest path within the graph. Dijkstra's Algorithm progressively computes the shortest distances from the initial node to all other nodes in the graph.\n"
   ]
  },
  {
   "cell_type": "code",
   "execution_count": null,
   "id": "c3c05ede",
   "metadata": {},
   "outputs": [],
   "source": []
  }
 ],
 "metadata": {
  "kernelspec": {
   "display_name": "Python 3 (ipykernel)",
   "language": "python",
   "name": "python3"
  },
  "language_info": {
   "codemirror_mode": {
    "name": "ipython",
    "version": 3
   },
   "file_extension": ".py",
   "mimetype": "text/x-python",
   "name": "python",
   "nbconvert_exporter": "python",
   "pygments_lexer": "ipython3",
   "version": "3.9.12"
  }
 },
 "nbformat": 4,
 "nbformat_minor": 5
}
